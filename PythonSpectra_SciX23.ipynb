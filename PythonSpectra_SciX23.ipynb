{
 "cells": [
  {
   "cell_type": "markdown",
   "metadata": {},
   "source": [
    "# Working with your data: Using python for data processing and analysis\n",
    "\n",
    "This notbook will be available to you to use as a guide for how you might like to do your data anaylsis. The strategies and steps that we will follow in this notebook are deliverly presented in a broad scientific context, with its functionalitiy easily expanded to the more specific context of your projects.\n",
    "\n",
    "**Learning objectives**\n",
    "\n",
    "- Familiarise with the python syntax\n",
    "- Access, read, and modify data from external sources\n",
    "- Understand how to use pre-written functions in python \n",
    "- Plot and visualise vibrtional spectra gathered from different sources\n",
    "- Master your data visualiation skills to make outstanding figures suitable for scientific discourse"
   ]
  },
  {
   "cell_type": "code",
   "execution_count": 12,
   "metadata": {},
   "outputs": [],
   "source": [
    "# Import libraries\n",
    "import re\n",
    "import numpy as np\n",
    "import pandas as pd\n",
    "import seaborn as sns\n",
    "from scipy import integrate\n",
    "import matplotlib.pyplot as plt\n",
    "\n",
    "# Setting the figures to be large with bigger font\n",
    "sns.set_context('talk', font_scale=1.1)\n",
    "\n",
    "# Pull of python functions targeted for our data analysis and processing\n",
    "from SciXFunctions import readiqmol, normintens, readNIST, makespectra, figsettings, givewidth, GWP_calculator, GWP_kconstant;"
   ]
  },
  {
   "cell_type": "markdown",
   "metadata": {},
   "source": [
    "# Using python in SciX\n",
    "\n",
    "Python is perhaps one of the most popular programming language not only in science but in many other interdisciplinary fields. This is mostly because of its super user-fieldy formatting and low-barrier entry, allowing newcomers to learn and explore python easily.\n",
    "\n",
    "In SciX however, our focus is not to teach python from scracth but to use it as a powerful tool for our data processing, analysis, and visualition, showcasing its applications in a scientific context. You will be using a pull of pre-written functions written by your SciX mentors that will allow you to explore the functionalities of python without being a programmer.\n",
    "\n",
    "If you wanna know more about python and learn the basics to maximise your engagement and enhance your programming skills, at UNSW we have developed a set of Jupyter notebooks exploring lots of different applications of python. You can find these Jupyter notebook here: https://sites.google.com/view/unswpy4sci/home.\n",
    "\n",
    "The image below presents a proposed roadmap of the notebooks that you might find useful, increasing in complexity and python knowledge required. However, if you wanna know more, have a look at the entire website; there a lots of options to learn from!\n",
    "\n",
    "<img src=\"BackgroudImages/SciXRoadmap.png\" alt=\"Alternative text\" width=\"800\"/>"
   ]
  },
  {
   "cell_type": "code",
   "execution_count": null,
   "metadata": {},
   "outputs": [],
   "source": []
  },
  {
   "cell_type": "markdown",
   "metadata": {},
   "source": [
    "# 1. Storing data in python\n",
    "\n",
    "We can store large amounts of data in python using several structures that allow efficient data processing and handling. In the context of Spectra@SciX, we mainly need to store and manipulate data in two different data structures:\n",
    "\n",
    "- **Dictiornary:** An unordered set of key-value pairs that are somehow realated to one another. The keys in the dictionary must be unique and it's through the keys that we can access the different values. We use curly brakets to define dictionaries in python. Each key-value pair is separated by a comma (,) and the key-value pair is distinguished by a colon (:). The key and value are placed before and after the colon, respectively.\n",
    "\n",
    "       dictionary = { key1:value1, key2:value2, ...}"
   ]
  },
  {
   "cell_type": "code",
   "execution_count": 3,
   "metadata": {},
   "outputs": [
    {
     "data": {
      "text/plain": [
       "{'H2O': 'water', 'CH4': 'methane', 'NH3': 'ammonia', 'O3': 'ozone'}"
      ]
     },
     "execution_count": 3,
     "metadata": {},
     "output_type": "execute_result"
    }
   ],
   "source": [
    "# Dictionary with molecular formule and chemical names for different molecules\n",
    "\n",
    "chem_form = {'H2O':'water', 'CH4':'methane', 'NH3':'ammonia', 'O3':'ozone'}\n",
    "chem_form"
   ]
  },
  {
   "cell_type": "markdown",
   "metadata": {},
   "source": [
    "> **Q1:** Print out the chemical name for NH3"
   ]
  },
  {
   "cell_type": "code",
   "execution_count": 4,
   "metadata": {},
   "outputs": [],
   "source": [
    "# Write your code here\n",
    "\n"
   ]
  },
  {
   "cell_type": "code",
   "execution_count": null,
   "metadata": {},
   "outputs": [],
   "source": []
  },
  {
   "cell_type": "markdown",
   "metadata": {},
   "source": [
    "- **List:** An ordered sequence of items. We use square brakets to define lists in python and access the different elements in the list by inputing their position in the list (note that python starts indexing with 0).\n",
    "\n",
    "        mylist = [value1, value2, value3, ...]"
   ]
  },
  {
   "cell_type": "code",
   "execution_count": 5,
   "metadata": {},
   "outputs": [
    {
     "data": {
      "text/plain": [
       "['Mercury', 'Venus', 'Earth', 'Mars', 'Jupiter', 'Saturn', 'Neptune', 'Uranus']"
      ]
     },
     "execution_count": 5,
     "metadata": {},
     "output_type": "execute_result"
    }
   ],
   "source": [
    "planets = ['Mercury', 'Venus', 'Earth', 'Mars', 'Jupiter', 'Saturn', 'Neptune', 'Uranus']\n",
    "planets"
   ]
  },
  {
   "cell_type": "markdown",
   "metadata": {},
   "source": [
    "> **Q2:** Access the name of the 5th planet in the Solar System from the _planets_ list"
   ]
  },
  {
   "cell_type": "code",
   "execution_count": 6,
   "metadata": {},
   "outputs": [],
   "source": [
    "# Write your code here\n",
    "\n"
   ]
  },
  {
   "cell_type": "code",
   "execution_count": null,
   "metadata": {},
   "outputs": [],
   "source": []
  },
  {
   "cell_type": "markdown",
   "metadata": {},
   "source": [
    "Note that when using dictionaries, the 'values' not only need to be single strings or numbers. They can also be lists."
   ]
  },
  {
   "cell_type": "code",
   "execution_count": null,
   "metadata": {},
   "outputs": [],
   "source": []
  },
  {
   "cell_type": "markdown",
   "metadata": {},
   "source": [
    "# 2. Reading data from non-standard files (e.g., IQMol, NIST)\n",
    "\n",
    "There are some cases where the data that we want to use in python comes from external files that are not organised in an standard format for storing and processing. In such cases, we need a bit more advanced programming skills to pre-process the data into a format that is readable in python.\n",
    "\n",
    "In the context of Spectra@SciX, these non-standard files correspond to the IQMol output files and the files from the NIST databases containing experimental data. To ease the complexity in this case, you guys are provided with a pull of pre-written functions that allow the effective pre-processing of data from these non-standard files.\n",
    "\n",
    "**Example IQMol output file**\n",
    "<img src=\"BackgroudImages/IQmol.png\" alt=\"Alternative text\" width=\"800\"/>"
   ]
  },
  {
   "cell_type": "markdown",
   "metadata": {},
   "source": [
    "## _readiqmol_\n",
    "\n",
    "This function parses the frequency and intensity data from an IQmol output file and stores it into a dictionary for processing and visualisation in python. The syntax for the _readiqmol_ function is as follows:\n",
    "\n",
    "### readiqmol(**data**, **sflow**, **sfmid**, **sfhigh**)\n",
    "\n",
    "where **data** corresponds to the IQMol output file that we are using for processing, and **sflow**, **sfmid**, and **sfhigh** correspond to the low, mid, and high-frequency scaling factors for the model chemistry used to run the calculations.\n",
    "\n",
    "The dictionary created by the _readiqmol_ function contains eight different entries:\n",
    "\n",
    "- **Frequency:** A list with all vibrational frequencies from the calculations\n",
    "- **Intensity:** List of all intensities corresponding to the different vibrational frequencies\n",
    "- **Normal modes:** Total number of vibrational normal modes for the molecule/file considered\n",
    "- **Units:** Either Vibrational frequencies units - either 'wavenumber' or 'micron'\n",
    "- **Freqs_Scaled:** List of scaled vibrational frequencies from the output file using the low, mid, and high-frequency scaling factors.\n",
    "- **Normalised intensities (Intensity_norm):** List of all intensities normalised to the highest intensity value using the **_normintens_** pre-written function.\n",
    "- **Frequencies in um (Frequency_um):** List of all vibrational frequencies in microns.\n"
   ]
  },
  {
   "cell_type": "code",
   "execution_count": 1,
   "metadata": {
    "scrolled": false
   },
   "outputs": [],
   "source": [
    "\"\"\"IQMol\"\"\"\n",
    "\n",
    "# Make sure you have the right filepath \n",
    "# Remember to give meaningful names to your variables.\n",
    "iqethanol = readiqmol(\"IQMolFiles/ethanol.out\", sflow = 0.970, sfmid = 0.953, sfhigh = 0.9475)\n",
    "iqethanol"
   ]
  },
  {
   "cell_type": "markdown",
   "metadata": {},
   "source": [
    "> **Q3:** Print out the first value of the _Intensity_ list in the _iqethanol_ variable storing the IQMol vibrational data for ethanol"
   ]
  },
  {
   "cell_type": "code",
   "execution_count": 8,
   "metadata": {},
   "outputs": [],
   "source": [
    "# Write your code here\n",
    "\n"
   ]
  },
  {
   "cell_type": "code",
   "execution_count": null,
   "metadata": {},
   "outputs": [],
   "source": []
  },
  {
   "cell_type": "markdown",
   "metadata": {},
   "source": [
    "## _readNIST_\n",
    "\n",
    "**Example NIST text file**\n",
    "\n",
    "<img src=\"BackgroudImages/NIST.png\" alt=\"Alternative text\" width=\"800\"/>\n",
    "\n",
    "Function to parse data from the default NIST txt experimental data file. The data is stored into a dictionary for further processing and visualisation in python. This dictionary contains five different entries:\n",
    "\n",
    "- **Frequency:** A list of all experimental vibrational frequencies.\n",
    "- **Intensity:** A list of all corresponding experimental vibrational intensities.\n",
    "- **Molecule:** Molecule name.\n",
    "- **Units:** Experimental vibrational frequency units - either '1/CM (wavenumber)' or 'micron'\n",
    "- **Normalised intensities (Intensity_norm):** List of all intensities normalised to the highest intensity value using the **_normintens_** pre-written function."
   ]
  },
  {
   "cell_type": "code",
   "execution_count": 3,
   "metadata": {},
   "outputs": [],
   "source": [
    "\"\"\"NIST\"\"\"\n",
    "\n",
    "#make sure you have the right filepath\n",
    "NIST_ethanol = readNIST(\"NISTData/ethanol.txt\")\n",
    "NIST_ethanol"
   ]
  },
  {
   "cell_type": "markdown",
   "metadata": {},
   "source": [
    "> **Q4:** We can get the lenght of a list by using the _len(list_name)_ command on a list of our interest. Print out the lenght of the _Frequency_ list in the NIST_ethanol dictionary."
   ]
  },
  {
   "cell_type": "code",
   "execution_count": 10,
   "metadata": {},
   "outputs": [],
   "source": [
    "# Write your code here\n",
    "\n"
   ]
  },
  {
   "cell_type": "code",
   "execution_count": null,
   "metadata": {},
   "outputs": [],
   "source": []
  },
  {
   "cell_type": "markdown",
   "metadata": {},
   "source": [
    "# 3. Plotting and analysing individual spectra\n",
    "\n",
    "## _makespectra_\n",
    "\n",
    "Remeber from earlier in this notebook that the _readiqmol_ function parses the IQMol output file and stores the relevant data into a dictionary containing the following entries:\n",
    "\n",
    "**Frequency**, **Intensity**, **Normal modes**, **Units**, **Frequencies Scaled**, **Normalised intensities**, and **Frequency in um**.\n",
    "\n",
    "The _makespectra_ function works on the dictionary created by the _readiqmol_ function, adding two new entries into it:\n",
    "\n",
    "- **Frequency_width**: List of numerical values (continuum) joining together all different harmonic vibrational frequencies obtained from the IQMol calculation.\n",
    "- **Intensidy_width**: List of numerical values (continuum) joining together all different vibrational frequency intensities obtained from the IQMol calculation.\n",
    "\n",
    "To add these 2 new entries into the dictioanry, and contrary to the _readiqmol_ and _readNIST_ fucntions, the _makespectra_ function requires 3 different parameters to work properly:\n",
    "\n",
    "### makespectra(**data**, **peakwidth**, **npts**)\n",
    "   \n",
    "- **data**: The dictionary created using the _readiqmol_ function to use the frequencies and intensities parsed from the IQMol output file.\n",
    "- **peakwidth**: Defines how sharp or broad we want the spectrum to look like.\n",
    "- **npts**: Defines how smooth we want the spectrum to look like."
   ]
  },
  {
   "cell_type": "code",
   "execution_count": 2,
   "metadata": {},
   "outputs": [],
   "source": [
    "# Parsing and storing the IQmol data for ethanol in the iq_ethanol variable using the readiqmol function\n",
    "iq_ethanol = readiqmol(\"IQMolFiles/ethanol.out\", sflow = 0.970, sfmid = 0.953, sfhigh = 0.9475)\n",
    "\n",
    "# Adding the width to the frequencies and intensities with the makespectra function\n",
    "iq_ethanol = makespectra(iq_ethanol, peakwidth=20, npts=500)\n",
    "iq_ethanol"
   ]
  },
  {
   "cell_type": "markdown",
   "metadata": {},
   "source": [
    "> **Q5:** What is the difference in the lenght between the _Intensity_ and _Intensity_widht_ lists in the _iq_ethanol_ dictionary? Which list is larger?"
   ]
  },
  {
   "cell_type": "code",
   "execution_count": 12,
   "metadata": {},
   "outputs": [],
   "source": [
    "# Write your code here\n",
    "\n"
   ]
  },
  {
   "cell_type": "markdown",
   "metadata": {},
   "source": [
    "Once the _makespectra_ function has been applied to the dictonary created using the _readiqmol_ function adding the correspodning frequency and intensities widths, we can proceed to plot the spectra using the Matplotlib library.\n",
    "\n",
    "The syntax for plotting data using Matplotlib is straightforward:\n",
    "\n",
    "    ax1.plot(x_values, y_values, other parameters...)\n",
    "    \n",
    "The _x_ and _y_ values in our case correspond to the calcualetd harmonic frequencies and intensities, respectively, as recorded from our IQMol calculations. The _other parameters_ part in the code allows to further customise the figure adding different colours, a legend, shape, etc. Read more about the Matplotlib documentation here https://matplotlib.org/stable/api/_as_gen/matplotlib.axes.Axes.plot.html"
   ]
  },
  {
   "cell_type": "code",
   "execution_count": 4,
   "metadata": {},
   "outputs": [],
   "source": [
    "# Setting figure size\n",
    "fig, ax1 = plt.subplots(figsize = (15,8))\n",
    "\n",
    "# -------------------------\n",
    "# Plotting data from IQmol\n",
    "# -------------------------\n",
    "\n",
    "# Parsing and storing the IQmol data for ethanol in the iq_ethanol variable.\n",
    "iq_ethanol = readiqmol(\"IQMolFiles/ethanol.out\", sflow = 0.970, sfmid = 0.953, sfhigh = 0.9475)\n",
    "\n",
    "# Adding the width to the frequencies and intensities\n",
    "iq_ethanol = makespectra(iq_ethanol, peakwidth=20, npts=500)\n",
    "\n",
    "# Creating the plot for ethanol\n",
    "ax1.plot(iq_ethanol['Frequency_width'], iq_ethanol[\"Intensity_width\"], \n",
    "         label = \"Ethanol - IQMol\", color = 'steelblue')\n",
    "\n",
    "\n",
    "ax1 = figsettings(ax1);\n",
    "fig.legend(loc = 1)\n",
    "fig.show()"
   ]
  },
  {
   "cell_type": "markdown",
   "metadata": {},
   "source": [
    "> **Q6:** Using the above code, plot the IQMol spectrum for ethanol using a dahsed line style and a colour of you choice (here is a list with some colour availabel in matplotlib https://matplotlib.org/stable/gallery/color/named_colors.html)"
   ]
  },
  {
   "cell_type": "code",
   "execution_count": 14,
   "metadata": {},
   "outputs": [],
   "source": [
    "# Write your code here\n",
    "\n"
   ]
  },
  {
   "cell_type": "code",
   "execution_count": null,
   "metadata": {},
   "outputs": [],
   "source": []
  },
  {
   "cell_type": "markdown",
   "metadata": {},
   "source": [
    "Matplotlib also allows us to plot different spectra together to see their similarities. Think for example that you want to compare how close is your calculated spectrum for ethanol using IQMol to the spectrum recorded in the laboratory. To do so, we just need to add a new extra line into the code specifying the data for the experimental spectrum for ethanol available from NIST."
   ]
  },
  {
   "cell_type": "code",
   "execution_count": 5,
   "metadata": {},
   "outputs": [],
   "source": [
    "## IQMol (with width) and NIST spectra for ethanol\n",
    "\n",
    "# Figure size \n",
    "fig, ax1 = plt.subplots(figsize = (15,8))\n",
    "\n",
    "# -------------------------\n",
    "# Plotting data from IQmol\n",
    "# -------------------------\n",
    "\n",
    "# Data that we want to plot. In this case, is the IQMol output file for ethanol.\n",
    "iq_ethanol = readiqmol(\"IQMolFiles/ethanol.out\", sflow = 0.970, sfmid = 0.953, sfhigh = 0.9475)\n",
    "# Adding the width to the frequencies and intensities\n",
    "iq_ethanol = makespectra(iq_ethanol, peakwidth=20, npts=500)\n",
    "\n",
    "# Creating the stem plot for ethanol\n",
    "ax1.plot(iq_ethanol['Frequency_width'], iq_ethanol[\"Intensity_width\"], \n",
    "         label = \"Ethanol - IQMol\", color = 'steelblue')\n",
    "\n",
    "# -------------------------\n",
    "# Plotting data from NIST\n",
    "# -------------------------\n",
    "\n",
    "# Data from NIST\n",
    "NIST_ethanol = readNIST(\"NISTData/ethanol.txt\")\n",
    "\n",
    "# Plotting data from NIST\n",
    "ax1.plot(NIST_ethanol[\"Frequency\"], (NIST_ethanol['Intensity_norm']), \n",
    "         label= \"Ethanol - NIST\", \n",
    "         color = 'black')\n",
    "\n",
    "\n",
    "ax1 = figsettings(ax1);\n",
    "fig.legend(loc = 1)\n",
    "fig.show()"
   ]
  },
  {
   "cell_type": "code",
   "execution_count": null,
   "metadata": {},
   "outputs": [],
   "source": []
  },
  {
   "cell_type": "code",
   "execution_count": null,
   "metadata": {},
   "outputs": [],
   "source": []
  },
  {
   "cell_type": "markdown",
   "metadata": {},
   "source": [
    "# 4. Adding spectra together"
   ]
  },
  {
   "cell_type": "markdown",
   "metadata": {},
   "source": [
    "When measuring the infrared spectrum of a planetary atmosphere, not only one but several molecules make up for the chemical inventory responsible for all spectral features present in the recorded spectrum. These atmospheric spectra are therefore the combination of all indivual IR spectra for the molecules present in the atmosphere.\n",
    "\n",
    "We can use python to simulate spectra containing feautres from multiple molecules at the same time. In this example, we are going to plot a spectrum containing both water and ethanol.\n",
    "\n",
    "Our first step is to store our calculated data for water and ethanol using the _readiqmol_ function."
   ]
  },
  {
   "cell_type": "code",
   "execution_count": 7,
   "metadata": {},
   "outputs": [
    {
     "data": {
      "text/plain": [
       "{'Frequency': [1826.52, 4068.55, 4186.98],\n",
       " 'Intensity': [107.302, 18.194, 58.195],\n",
       " 'nomodes': 3,\n",
       " 'units': 'Wavenumber',\n",
       " 'Freq_Scaled': [1740.67356, 3854.951125, 3967.1635499999998],\n",
       " 'Intensity_norm': [1.0, 0.16955881530633166, 0.5423477661180592],\n",
       " 'Frequency_um': [5.744902565188616, 2.5940666108963963, 2.5206926495379807]}"
      ]
     },
     "execution_count": 7,
     "metadata": {},
     "output_type": "execute_result"
    }
   ],
   "source": [
    "iq_water = readiqmol(\"IQMolFiles/water.out\", sflow = 0.970, sfmid = 0.953, sfhigh = 0.9475)\n",
    "iq_ethanol = readiqmol(\"IQMolFiles/ethanol.out\", sflow = 0.970, sfmid = 0.953, sfhigh = 0.9475)\n",
    "\n",
    "iq_water"
   ]
  },
  {
   "cell_type": "markdown",
   "metadata": {},
   "source": [
    "Note that we can plot these two spectra indivually, like we did with the IQMol and NIST spectra for ethanol previously in this notebook."
   ]
  },
  {
   "cell_type": "code",
   "execution_count": 6,
   "metadata": {},
   "outputs": [],
   "source": [
    "## IQMol (with width) and NIST spectra for ethanol\n",
    "\n",
    "# Figure size \n",
    "fig, ax1 = plt.subplots(figsize = (15,8))\n",
    "\n",
    "# -------\n",
    "# Ethanol\n",
    "# -------\n",
    "\n",
    "# Data that we want to plot. In this case, is the IQMol output file for ethanol.\n",
    "iq_ethanol = readiqmol(\"IQMolFiles/ethanol.out\", sflow = 0.970, sfmid = 0.953, sfhigh = 0.9475)\n",
    "# Adding the width to the frequencies and intensities\n",
    "iq_ethanol = makespectra(iq_ethanol, peakwidth=20, npts=500)\n",
    "\n",
    "# Creating the stem plot for ethanol\n",
    "ax1.plot(iq_ethanol['Frequency_width'], iq_ethanol[\"Intensity_width\"], \n",
    "         label = \"Ethanol\", color = 'steelblue')\n",
    "\n",
    "# -----\n",
    "# Water\n",
    "# -----\n",
    "\n",
    "# Data that we want to plot. In this case, is the IQMol output file for ethanol.\n",
    "iq_water = readiqmol(\"IQMolFiles/water.out\", sflow = 0.970, sfmid = 0.953, sfhigh = 0.9475)\n",
    "# Adding the width to the frequencies and intensities\n",
    "iq_water = makespectra(iq_water, peakwidth=20, npts=500)\n",
    "\n",
    "# Creating the stem plot for ethanol\n",
    "ax1.plot(iq_water['Frequency_width'], iq_water[\"Intensity_width\"], \n",
    "         label = \"Water\", color = 'maroon')\n",
    "\n",
    "\n",
    "ax1 = figsettings(ax1);\n",
    "fig.legend(loc = 1)\n",
    "fig.show()"
   ]
  },
  {
   "cell_type": "markdown",
   "metadata": {},
   "source": [
    "However, realistic atmospheric spectra do not distinguish between the spectral features for the molecules considered. This means that we need to add the frequencies and intensities up for the molecules considered in our example."
   ]
  },
  {
   "cell_type": "code",
   "execution_count": 7,
   "metadata": {},
   "outputs": [],
   "source": [
    "# Data from IQmol\n",
    "iq_water = readiqmol(\"IQMolFiles/water.out\", sflow = 0.970, sfmid = 0.953, sfhigh = 0.9475)\n",
    "iq_ethanol = readiqmol(\"IQMolFiles/ethanol.out\", sflow = 0.970, sfmid = 0.953, sfhigh = 0.9475)\n",
    "\n",
    "# Adding the frequencies and intensities for water and ethanol\n",
    "et_water_freq = iq_ethanol['Frequency'] + iq_water['Frequency']\n",
    "et_water_int = iq_ethanol['Intensity_norm'] + iq_water['Intensity_norm']\n",
    "\n",
    "et_water_int"
   ]
  },
  {
   "cell_type": "markdown",
   "metadata": {},
   "source": [
    "## _givewidth_\n",
    "\n",
    "Now that we have our frequencies and intensities for both water and ethanol together in the same lists, we need to add the width to both lists before plotting the combined spectrum. \n",
    "\n",
    "In this case, however, we cannot use the _makespectra_ function because we are no longer working with individual dictionaries but with lists instead. The _give_widht_ function allows to add width to individual lists following the smae syntax as the _makespectra_ function for dictionaries:\n",
    "\n",
    "### givewidth(**freq**, **intens**, **peakwidth**, **npts**)\n",
    "   \n",
    "- **freq**: List of frequencies considered.\n",
    "- **intens**: List of intensites considered\n",
    "- **peakwidth**: Defines how sharp or broad we want the spectrum to look like.\n",
    "- **npts**: Defines how smooth we want the spectrum to look like.\n",
    "\n",
    "When using the _givewidth_, the output will be 2 different lists: one for frequencies (joinf) and another one for the intensities (joini), both with their respective widths added."
   ]
  },
  {
   "cell_type": "code",
   "execution_count": 8,
   "metadata": {},
   "outputs": [],
   "source": [
    "# Data from IQmol\n",
    "iq_water = readiqmol(\"IQMolFiles/water.out\", sflow = 0.970, sfmid = 0.953, sfhigh = 0.9475)\n",
    "iq_ethanol = readiqmol(\"IQMolFiles/ethanol.out\", sflow = 0.970, sfmid = 0.953, sfhigh = 0.9475)\n",
    "\n",
    "# Adding the frequencies and intensities for water and ethanol\n",
    "et_water_freq = iq_ethanol['Frequency'] + iq_water['Frequency']\n",
    "et_water_int = iq_ethanol['Intensity_norm'] + iq_water['Intensity_norm']\n",
    "\n",
    "# Remeber that we need to scale our frequencies. We are using the givewidth function for that\n",
    "joinf, joini = givewidth(et_water_freq, et_water_int, peakwidth=20, npts=500)\n",
    "\n",
    "joini"
   ]
  },
  {
   "cell_type": "code",
   "execution_count": null,
   "metadata": {},
   "outputs": [],
   "source": []
  },
  {
   "cell_type": "code",
   "execution_count": 9,
   "metadata": {},
   "outputs": [],
   "source": [
    "# ----------------------------------\n",
    "# PLOTTING COMBINED SPECTRAL DATA\n",
    "# ----------------------------------\n",
    "\n",
    "fig, ax = plt.subplots(1,1,figsize = (15,8))\n",
    "\n",
    "# Data from IQmol\n",
    "iq_water = readiqmol(\"IQMolFiles/water.out\")\n",
    "iq_ethanol = readiqmol(\"IQMolFiles/ethanol.out\")\n",
    "\n",
    "# Adding the frequencies and intensities for water and ethanol\n",
    "et_water_freq = iq_ethanol['Frequency'] + iq_water['Frequency']\n",
    "et_water_int = iq_ethanol['Intensity_norm'] + iq_water['Intensity_norm']\n",
    "\n",
    "# Remeber that we need to scale our frequencies. We are using the givewidth function for that\n",
    "joinf, joini = givewidth(et_water_freq, et_water_int, peakwidth=20, npts=500)\n",
    "\n",
    "ax.plot(joinf, joini, label = \"Ethanol + Water\", color = 'steelblue')\n",
    "\n",
    "ax = figsettings(ax);\n",
    "\n",
    "# ax1.set_ylim(-1.0,1)\n",
    "fig.legend(loc = 1)\n",
    "fig.show()"
   ]
  },
  {
   "cell_type": "code",
   "execution_count": null,
   "metadata": {},
   "outputs": [],
   "source": []
  },
  {
   "cell_type": "markdown",
   "metadata": {},
   "source": [
    "Another important feature that we can add to our spectrum is considering different concentrations for the molecules present in the spectrum and visualising how this factor affects the resulting combined spectrum. This is easily achieved by multiplyging the intensity lists by the percentage representing the concentration of each molecule. \n",
    "\n",
    "For example, in the case of an atmosphere containing 70% ethanol and 30% water, we would need to multiply the inensity lists by 0.7 and 0.3 for each molecule respectively."
   ]
  },
  {
   "cell_type": "code",
   "execution_count": 10,
   "metadata": {},
   "outputs": [],
   "source": [
    "# Data from IQmol\n",
    "iq_water = readiqmol(\"IQMolFiles/water.out\", sflow = 0.970, sfmid = 0.953, sfhigh = 0.9475)\n",
    "iq_ethanol = readiqmol(\"IQMolFiles/ethanol.out\", sflow = 0.970, sfmid = 0.953, sfhigh = 0.9475)\n",
    "\n",
    "# Adding the frequencies and intensities for water and ethanol considering 30% water and 70% ethanol\n",
    "et_water_freq = iq_ethanol['Frequency'] + iq_water['Frequency']\n",
    "et_water_int = list(np.array(iq_ethanol['Intensity_norm'])*0.7) + list(np.array(iq_water['Intensity_norm'])*0.3)\n",
    "\n",
    "et_water_int"
   ]
  },
  {
   "cell_type": "code",
   "execution_count": null,
   "metadata": {},
   "outputs": [],
   "source": []
  },
  {
   "cell_type": "markdown",
   "metadata": {},
   "source": [
    "The spectrum will therefore change to"
   ]
  },
  {
   "cell_type": "code",
   "execution_count": 16,
   "metadata": {},
   "outputs": [],
   "source": [
    "# ----------------------------------\n",
    "# PLOTTING COMBINED SPECTRAL DATA\n",
    "# ----------------------------------\n",
    "\n",
    "fig, ax = plt.subplots(1,1,figsize = (15,8))\n",
    "\n",
    "# Data from IQmol\n",
    "iq_water = readiqmol(\"IQMolFiles/water.out\", sflow = 0.970, sfmid = 0.953, sfhigh = 0.9475)\n",
    "iq_ethanol = readiqmol(\"IQMolFiles/ethanol.out\", sflow = 0.970, sfmid = 0.953, sfhigh = 0.9475)\n",
    "\n",
    "# --------------------------\n",
    "# SPECTRUM WITHOUT ABUNDANCES\n",
    "# --------------------------\n",
    "\n",
    "# Adding the frequencies and intensities for water and ethanol\n",
    "et_water_freq = iq_ethanol['Frequency'] + iq_water['Frequency']\n",
    "et_water_int = et_water_int = iq_ethanol['Intensity_norm'] + iq_water['Intensity_norm']\n",
    "\n",
    "# Remeber that we need to scale our frequencies. We are using the givewidth function for that\n",
    "joinf, joini = givewidth(et_water_freq, et_water_int, peakwidth=20, npts=500)\n",
    "\n",
    "ax.plot(joinf, joini, label = \"Ethanol + Water (no abundances)\", color = 'steelblue')\n",
    "\n",
    "# --------------------------\n",
    "# SPECTRUM WITH ABUNDANCES\n",
    "# --------------------------\n",
    "\n",
    "# Adding the frequencies and intensities for water and ethanol\n",
    "et_water_freq = iq_ethanol['Frequency'] + iq_water['Frequency']\n",
    "et_water_int = list(np.array(iq_ethanol['Intensity_norm'])*0.8) + list(np.array(iq_water['Intensity_norm'])*0.7)\n",
    "\n",
    "# Remeber that we need to scale our frequencies. We are using the givewidth function for that\n",
    "joinf, joini = givewidth(et_water_freq, et_water_int, peakwidth=20, npts=500)\n",
    "\n",
    "ax.plot(joinf, joini, label = \"Ethanol + Water (with abundances)\", color = 'goldenrod')\n",
    "\n",
    "ax = figsettings(ax);\n",
    "fig.legend(loc = 1)\n",
    "fig.show()"
   ]
  },
  {
   "cell_type": "code",
   "execution_count": null,
   "metadata": {},
   "outputs": [],
   "source": []
  },
  {
   "cell_type": "markdown",
   "metadata": {},
   "source": [
    "> **Q7:** For a molecules of your choice, run a harmonic frequency calculation and add the resulting spectrum to the Ethanol + Water combined spectrum plotted before. Include a concentration of 50% for these molecule. Can you identify where the new peaks arise in the spectrum?"
   ]
  },
  {
   "cell_type": "code",
   "execution_count": 23,
   "metadata": {},
   "outputs": [],
   "source": [
    "# Write your code here\n",
    "\n"
   ]
  },
  {
   "cell_type": "code",
   "execution_count": null,
   "metadata": {},
   "outputs": [],
   "source": []
  },
  {
   "cell_type": "markdown",
   "metadata": {},
   "source": [
    "# 5. Calculating global warming potential"
   ]
  },
  {
   "cell_type": "markdown",
   "metadata": {},
   "source": [
    "Last but not least, we have also the _GWP_calculator_ pre-written function for SciX that allows the estimation of the Global Warming Potential for a given chemical species, considering the vibrational data calculated through IQMol.\n",
    "\n",
    "<img src=\"BackgroudImages/GWP.png\" alt=\"Alternative text\" width=\"800\"/>\n",
    "\n",
    "The function has four different inputs to consider:\n",
    "\n",
    "### GWP_calculator(mol_data, molecule, lifetime, th):\n",
    "\n",
    "- **mol_data:** Corresponds to the dictionary created with the _readiqmol_ function containing the vibrational frequencies and intensities from IQMol.\n",
    "- **molecule:** Specifies the molecular formula for the molecule you are interested in. For example, if you are studying methane, you need to type 'CH4'.\n",
    "- **lifetime:** Atmospheric lifetime for the molecule of your interest (in years).\n",
    "- **th:** The time horizon that you would like to study. Remember that you must choose between 20, 50, and 100 years for the time horizon.\n",
    "\n",
    "Once these values have been inputed into the function, the _GWP_calculator_ will output the radiative forcing for the species you are studying, as well as its global warming potential (GWP)."
   ]
  },
  {
   "cell_type": "code",
   "execution_count": 19,
   "metadata": {},
   "outputs": [],
   "source": [
    "# Calculating GWP for methane (CH4)\n",
    "\n",
    "# Dictionary with IQMol vibrational data for methane\n",
    "iqdata = readiqmol(\"IQMolFiles/methane.out\")\n",
    "\n",
    "GWP_calculator(iqdata, 'CH4', lifetime=10.4, th=50)"
   ]
  },
  {
   "cell_type": "code",
   "execution_count": null,
   "metadata": {},
   "outputs": [],
   "source": []
  },
  {
   "cell_type": "markdown",
   "metadata": {},
   "source": [
    "We can use the _GWP_Calculator_ function to investigate the GWP for different molecules in the atmosphere like methane (CH4), nitrous oxide (N2O), and dicholorfluoromethane (CHFCl2)"
   ]
  },
  {
   "cell_type": "code",
   "execution_count": 18,
   "metadata": {},
   "outputs": [],
   "source": [
    "# Gathering IQMol data for our molecules of interest\n",
    "\n",
    "CH4data = readiqmol(\"IQMolFiles/methane.out\")\n",
    "N2Odata = readiqmol(\"IQMolFiles/N2O.out\")\n",
    "CHFCl2data = readiqmol(\"IQMolFiles/CHFCl2.out\")"
   ]
  },
  {
   "cell_type": "code",
   "execution_count": 18,
   "metadata": {},
   "outputs": [],
   "source": [
    "# Calculating GWP for all molecules\n",
    "\n",
    "GWP_calculator(CH4data, 'CH4', lifetime=10.4, th=100)\n",
    "GWP_calculator(N2Odata, 'N2O', lifetime=123, th=100)\n",
    "GWP_calculator(CHFCl2data, 'CHFCl2', lifetime=1.8, th=100)"
   ]
  },
  {
   "cell_type": "code",
   "execution_count": null,
   "metadata": {},
   "outputs": [],
   "source": []
  },
  {
   "cell_type": "markdown",
   "metadata": {},
   "source": [
    "Let's plot the data to visualise our results. Remeber that you can store data in lists in python."
   ]
  },
  {
   "cell_type": "code",
   "execution_count": 20,
   "metadata": {},
   "outputs": [],
   "source": [
    "# Putting data together\n",
    "molecules = ['CH4','N2O','CHFCl2']\n",
    "GWPs = [28.96, 216.53, 74.34]\n",
    "\n",
    "# Figure dimensions\n",
    "fig, ax = plt.subplots(1,1,figsize = (15,8))\n",
    "\n",
    "# Creating the figure\n",
    "ax.scatter(molecules, GWPs)\n",
    "ax.set_ylabel(\"GPW (kgCO2)\")\n",
    "ax.set_xlabel(\"Molecule\")"
   ]
  },
  {
   "cell_type": "code",
   "execution_count": null,
   "metadata": {},
   "outputs": [],
   "source": []
  },
  {
   "cell_type": "markdown",
   "metadata": {},
   "source": [
    "### When no lifetimes are available\n",
    "\n",
    "Note that the molecule that you want to study might not have lifetimes fairly available in the literature. We can provide an estimate for the lifetime of these molecules by providing _A_ the pre-exponential factor and the activation energy and ideal gas constat _E/R_ ratio in the Arrhenious equation. Remeber that you can look for these values in the _k_DataValues_ pdf.\n",
    "\n",
    "<img src=\"BackgroudImages/GWPk.png\" alt=\"Alternative text\" width=\"800\"/>\n",
    "\n",
    "To calculate GWPs this way, we have a slighly modified version of the _GWP_calculator_ function:\n",
    "\n",
    "### GWP_kconstant(mol_data, molecule, th, A, ER_factor):\n",
    "\n",
    "- **mol_data:** Corresponds to the dictionary created with the _readiqmol_ function containing the vibrational frequencies and intensities from IQMol.\n",
    "- **molecule:** Specifies the molecular formula for the molecule you are interested in. For example, if you are studying methane, you need to type 'CH4'.\n",
    "- **th:** The time horizon that you would like to study. Remember that you must choose between 20, 50, and 100 years for the time horizon.\n",
    "- **A:** Pre-exponential factor for the molecule you are studying.\n",
    "- **ER_factor:** Activation energy and ideal gas constant ratio for the molecule you are studying."
   ]
  },
  {
   "cell_type": "code",
   "execution_count": 21,
   "metadata": {},
   "outputs": [],
   "source": [
    "# Dictionary with IQMol vibrational data for methane\n",
    "CHFCl2data = readiqmol(\"IQMolFiles/CHFCl2.out\")\n",
    "\n",
    "GWP_kconstant(CHFCl2data, 'CHFCl2', th=20, A=1.52*10**-12, ER_factor=1170)"
   ]
  },
  {
   "cell_type": "code",
   "execution_count": null,
   "metadata": {},
   "outputs": [],
   "source": []
  },
  {
   "cell_type": "markdown",
   "metadata": {},
   "source": [
    "Note that this approximation gives pretty similar results to those obtained with the _GWP_calculator_ function."
   ]
  },
  {
   "cell_type": "code",
   "execution_count": null,
   "metadata": {},
   "outputs": [],
   "source": []
  },
  {
   "cell_type": "code",
   "execution_count": null,
   "metadata": {},
   "outputs": [],
   "source": []
  },
  {
   "cell_type": "code",
   "execution_count": null,
   "metadata": {},
   "outputs": [],
   "source": []
  }
 ],
 "metadata": {
  "kernelspec": {
   "display_name": "Python 3",
   "language": "python",
   "name": "python3"
  },
  "language_info": {
   "codemirror_mode": {
    "name": "ipython",
    "version": 3
   },
   "file_extension": ".py",
   "mimetype": "text/x-python",
   "name": "python",
   "nbconvert_exporter": "python",
   "pygments_lexer": "ipython3",
   "version": "3.8.5"
  }
 },
 "nbformat": 4,
 "nbformat_minor": 4
}
